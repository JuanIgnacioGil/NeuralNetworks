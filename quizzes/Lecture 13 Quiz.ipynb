{
 "cells": [
  {
   "cell_type": "code",
   "execution_count": 1,
   "metadata": {
    "collapsed": true
   },
   "outputs": [],
   "source": [
    "import numpy as np\n",
    "import pandas as pd\n",
    "from itertools import product"
   ]
  },
  {
   "cell_type": "code",
   "execution_count": 61,
   "metadata": {
    "collapsed": true
   },
   "outputs": [],
   "source": [
    "def prob(E):\n",
    "    return 1 / (1 + np.exp(-E))\n",
    "\n",
    "def p(nu, h1, h2, w):\n",
    "    E = nu * h1 * w[0] + nu * h2 * w[1]\n",
    "    return prob(E)\n",
    "\n",
    "def fc(w):\n",
    "\n",
    "    fc = pd.DataFrame(list(product([0, 1], [0, 1], [0, 1])), columns=['nu', 'h1', 'h2'])\n",
    "    fc['E'] = w[0] * fc['h1'] *  fc['nu'] + w[1] * fc['h2'] *  fc['nu']\n",
    "    fc['P'] = prob(fc['E'])\n",
    "    fc['Pnorm'] = fc['P'] / fc['P'].sum()\n",
    "    \n",
    "    return fc"
   ]
  },
  {
   "cell_type": "markdown",
   "metadata": {},
   "source": [
    "## 1 ##\n",
    "\n",
    "You may find this explanation of SBNs helpful.\n",
    "\n",
    "This quiz is going to take you through the details of Sigmoid Belief Networks (SBNs). The most relevant videos are the second video (\"Belief Nets\", especially from 11:44) and third video (\"Learning sigmoid belief nets\") of lecture 13.\n",
    "\n",
    "We'll be working with this network:\n",
    "\n",
    "\n",
    "[![Foo](https://d3c33hcgiwev3.cloudfront.net/imageAssetProxy.v1/M8ULpLKdEea3qApInhZCFg_15ef1fe555538cc6c49ff235689c3cbc_sbn.png?expiry=1504137600000&hmac=4fZFsLsLmG4KfEejQ58q-UVQtZtaU7UVmyL6mwDTmtk)]()\n",
    "\n",
    "\n",
    "The network has no biases (or equivalently, the biases are always zero), so it has only two parameters: w1 (the weight on the connection from h1 to v) and w2 (the weight on the connection from h2 to v).\n",
    "\n",
    "Remember, the units in an SBN are all binary, and the logistic function (also known as the sigmoid function) figures prominently in the definition of SBNs. These binary units, with their logistic/sigmoid probability function, are in a sense the stochastic equivalent of the deterministic logistic hidden units that we've seen often in earlier lectures.\n",
    "\n",
    "Let's start with $w1=−6.90675478$ and $w2=0.40546511$. These numbers were chosen to ensure that the answer to many questions is a very simple answer, which might make it easier to understand more of what's going on. Let's also pick a complete configuration to focus on: h1=0,h2=1,v=1 (we'll call that configuration C011).\n",
    "\n",
    "Ready to Begin? (Please select a response. This question is reflective and selecting a certain answer will not affect your grade.)"
   ]
  },
  {
   "cell_type": "code",
   "execution_count": 62,
   "metadata": {
    "collapsed": true
   },
   "outputs": [],
   "source": [
    "w1 = -6.90675478\n",
    "w2 = 0.40546511\n",
    "w = [w1, w2]"
   ]
  },
  {
   "cell_type": "markdown",
   "metadata": {},
   "source": [
    "## 2. ## \n",
    "What is $P(v=1|h1=0,h2=1)$? Write your answer with four digits after the decimal point. Hint: the last three of\n",
    "\n",
    "those four digits are zeros. (If you're lost on this question, then I strongly recommend that you do whatever you need to do to figure it out, before\n",
    "\n",
    "proceeding with the rest of this quiz.)"
   ]
  },
  {
   "cell_type": "code",
   "execution_count": 63,
   "metadata": {},
   "outputs": [
    {
     "data": {
      "text/plain": [
       "0.60000000045404056"
      ]
     },
     "execution_count": 63,
     "metadata": {},
     "output_type": "execute_result"
    }
   ],
   "source": [
    "p(nu=1, h1=0, h2=1, w=w)"
   ]
  },
  {
   "cell_type": "markdown",
   "metadata": {},
   "source": [
    "## 3. ## \n",
    "What is the probability of that full configuration, i.e. $P(h1=0,h2=1,v=1)$, which we called P(C011)? Write your answer with four digits\n",
    "\n",
    "after the decimal point. Hint: it's less than a half, and the last two of those four digits are zeros."
   ]
  },
  {
   "cell_type": "code",
   "execution_count": 64,
   "metadata": {},
   "outputs": [
    {
     "data": {
      "text/html": [
       "<div>\n",
       "<style>\n",
       "    .dataframe thead tr:only-child th {\n",
       "        text-align: right;\n",
       "    }\n",
       "\n",
       "    .dataframe thead th {\n",
       "        text-align: left;\n",
       "    }\n",
       "\n",
       "    .dataframe tbody tr th {\n",
       "        vertical-align: top;\n",
       "    }\n",
       "</style>\n",
       "<table border=\"1\" class=\"dataframe\">\n",
       "  <thead>\n",
       "    <tr style=\"text-align: right;\">\n",
       "      <th></th>\n",
       "      <th>nu</th>\n",
       "      <th>h1</th>\n",
       "      <th>h2</th>\n",
       "      <th>E</th>\n",
       "      <th>P</th>\n",
       "      <th>Pnorm</th>\n",
       "    </tr>\n",
       "  </thead>\n",
       "  <tbody>\n",
       "    <tr>\n",
       "      <th>0</th>\n",
       "      <td>0</td>\n",
       "      <td>0</td>\n",
       "      <td>0</td>\n",
       "      <td>0.000000</td>\n",
       "      <td>0.500000</td>\n",
       "      <td>0.161160</td>\n",
       "    </tr>\n",
       "    <tr>\n",
       "      <th>1</th>\n",
       "      <td>0</td>\n",
       "      <td>0</td>\n",
       "      <td>1</td>\n",
       "      <td>0.000000</td>\n",
       "      <td>0.500000</td>\n",
       "      <td>0.161160</td>\n",
       "    </tr>\n",
       "    <tr>\n",
       "      <th>2</th>\n",
       "      <td>0</td>\n",
       "      <td>1</td>\n",
       "      <td>0</td>\n",
       "      <td>0.000000</td>\n",
       "      <td>0.500000</td>\n",
       "      <td>0.161160</td>\n",
       "    </tr>\n",
       "    <tr>\n",
       "      <th>3</th>\n",
       "      <td>0</td>\n",
       "      <td>1</td>\n",
       "      <td>1</td>\n",
       "      <td>0.000000</td>\n",
       "      <td>0.500000</td>\n",
       "      <td>0.161160</td>\n",
       "    </tr>\n",
       "    <tr>\n",
       "      <th>4</th>\n",
       "      <td>1</td>\n",
       "      <td>0</td>\n",
       "      <td>0</td>\n",
       "      <td>0.000000</td>\n",
       "      <td>0.500000</td>\n",
       "      <td>0.161160</td>\n",
       "    </tr>\n",
       "    <tr>\n",
       "      <th>5</th>\n",
       "      <td>1</td>\n",
       "      <td>0</td>\n",
       "      <td>1</td>\n",
       "      <td>0.405465</td>\n",
       "      <td>0.600000</td>\n",
       "      <td>0.193392</td>\n",
       "    </tr>\n",
       "    <tr>\n",
       "      <th>6</th>\n",
       "      <td>1</td>\n",
       "      <td>1</td>\n",
       "      <td>0</td>\n",
       "      <td>-6.906755</td>\n",
       "      <td>0.001000</td>\n",
       "      <td>0.000322</td>\n",
       "    </tr>\n",
       "    <tr>\n",
       "      <th>7</th>\n",
       "      <td>1</td>\n",
       "      <td>1</td>\n",
       "      <td>1</td>\n",
       "      <td>-6.501290</td>\n",
       "      <td>0.001499</td>\n",
       "      <td>0.000483</td>\n",
       "    </tr>\n",
       "  </tbody>\n",
       "</table>\n",
       "</div>"
      ],
      "text/plain": [
       "   nu  h1  h2         E         P     Pnorm\n",
       "0   0   0   0  0.000000  0.500000  0.161160\n",
       "1   0   0   1  0.000000  0.500000  0.161160\n",
       "2   0   1   0  0.000000  0.500000  0.161160\n",
       "3   0   1   1  0.000000  0.500000  0.161160\n",
       "4   1   0   0  0.000000  0.500000  0.161160\n",
       "5   1   0   1  0.405465  0.600000  0.193392\n",
       "6   1   1   0 -6.906755  0.001000  0.000322\n",
       "7   1   1   1 -6.501290  0.001499  0.000483"
      ]
     },
     "execution_count": 64,
     "metadata": {},
     "output_type": "execute_result"
    }
   ],
   "source": [
    "fcw = fc(w)\n",
    "fcw"
   ]
  },
  {
   "cell_type": "code",
   "execution_count": 65,
   "metadata": {},
   "outputs": [
    {
     "data": {
      "text/plain": [
       "0.15000000011351014"
      ]
     },
     "execution_count": 65,
     "metadata": {},
     "output_type": "execute_result"
    }
   ],
   "source": [
    "Ph1 = 0.5\n",
    "Ph2 = 0.5\n",
    "\n",
    "P_C011 = p(nu=1, h1=0, h2=1, w=w) * (1 - Ph1) * Ph2\n",
    "P_C011"
   ]
  },
  {
   "cell_type": "markdown",
   "metadata": {},
   "source": [
    "## 4. ##\n",
    "What is $\\frac{\\partial{\\log{P}(C011)}}{\\partial{w1}}$? Write your answer with at least three digits after the decimal point, and don't be too\n",
    "\n",
    "surprised if it's a very simple answer."
   ]
  },
  {
   "cell_type": "code",
   "execution_count": 66,
   "metadata": {},
   "outputs": [
    {
     "data": {
      "text/plain": [
       "0.0"
      ]
     },
     "execution_count": 66,
     "metadata": {},
     "output_type": "execute_result"
    }
   ],
   "source": [
    "0.000"
   ]
  },
  {
   "cell_type": "markdown",
   "metadata": {},
   "source": [
    "## 5. ## \n",
    "\n",
    "What is $\\frac{\\partial{\\log{P}(C011)}}{\\partial{w2}}$? Write your answer with at least three digits after the decimal point, and don't be too\n",
    "\n",
    "surprised if it's a very simple answer."
   ]
  },
  {
   "cell_type": "code",
   "execution_count": 67,
   "metadata": {},
   "outputs": [
    {
     "data": {
      "text/plain": [
       "0.39999999954595949"
      ]
     },
     "execution_count": 67,
     "metadata": {},
     "output_type": "execute_result"
    }
   ],
   "source": [
    "4 * (P_C011) * np.exp(-w2)"
   ]
  },
  {
   "cell_type": "markdown",
   "metadata": {},
   "source": [
    "## 6. ##\n",
    "\n",
    "What is $P(h2=1|v=1,h1=0)$? Give your answer with at least four digits after the decimal point. Hint: it's a fairly small number (and not a round number like for the earlier questions); try to intuitively understand why it's small. Second hint: you might find Bayes' rule useful, but even with that rule, this still requires some thought."
   ]
  },
  {
   "cell_type": "markdown",
   "metadata": {},
   "source": [
    "Using Bayes theorem:\n",
    "\n",
    "$P(h2=1| \\nu=1, h1=0) = \\frac{P(\\nu=1, h1=0 |h2=1) P(h2=1)}{P(\\nu=1, h1=0)} = \\frac{\\frac{1}{4} P(\\nu=1|h2=1){P(\\nu=1, h1=0)} = \\frac{\\frac{1}{8} P(\\nu=1|h1=0, h2=1) + {\\frac{1}{4} P(\\nu=1|h1=1, h2=1)}{\\frac{1}{4} P(\\nu=1| h1=0, h2=0)} + \\frac{1}{4} P(\\nu=1| h1=0, h2=1)}$\n",
    " "
   ]
  },
  {
   "cell_type": "code",
   "execution_count": 68,
   "metadata": {},
   "outputs": [
    {
     "data": {
      "text/html": [
       "<div>\n",
       "<style>\n",
       "    .dataframe thead tr:only-child th {\n",
       "        text-align: right;\n",
       "    }\n",
       "\n",
       "    .dataframe thead th {\n",
       "        text-align: left;\n",
       "    }\n",
       "\n",
       "    .dataframe tbody tr th {\n",
       "        vertical-align: top;\n",
       "    }\n",
       "</style>\n",
       "<table border=\"1\" class=\"dataframe\">\n",
       "  <thead>\n",
       "    <tr style=\"text-align: right;\">\n",
       "      <th></th>\n",
       "      <th>nu</th>\n",
       "      <th>h1</th>\n",
       "      <th>h2</th>\n",
       "      <th>E</th>\n",
       "      <th>P</th>\n",
       "      <th>Pnorm</th>\n",
       "    </tr>\n",
       "  </thead>\n",
       "  <tbody>\n",
       "    <tr>\n",
       "      <th>0</th>\n",
       "      <td>0</td>\n",
       "      <td>0</td>\n",
       "      <td>0</td>\n",
       "      <td>0</td>\n",
       "      <td>0.500000</td>\n",
       "      <td>0.110730</td>\n",
       "    </tr>\n",
       "    <tr>\n",
       "      <th>1</th>\n",
       "      <td>0</td>\n",
       "      <td>0</td>\n",
       "      <td>1</td>\n",
       "      <td>0</td>\n",
       "      <td>0.500000</td>\n",
       "      <td>0.110730</td>\n",
       "    </tr>\n",
       "    <tr>\n",
       "      <th>2</th>\n",
       "      <td>0</td>\n",
       "      <td>1</td>\n",
       "      <td>0</td>\n",
       "      <td>0</td>\n",
       "      <td>0.500000</td>\n",
       "      <td>0.110730</td>\n",
       "    </tr>\n",
       "    <tr>\n",
       "      <th>3</th>\n",
       "      <td>0</td>\n",
       "      <td>1</td>\n",
       "      <td>1</td>\n",
       "      <td>0</td>\n",
       "      <td>0.500000</td>\n",
       "      <td>0.110730</td>\n",
       "    </tr>\n",
       "    <tr>\n",
       "      <th>4</th>\n",
       "      <td>1</td>\n",
       "      <td>0</td>\n",
       "      <td>0</td>\n",
       "      <td>0</td>\n",
       "      <td>0.500000</td>\n",
       "      <td>0.110730</td>\n",
       "    </tr>\n",
       "    <tr>\n",
       "      <th>5</th>\n",
       "      <td>1</td>\n",
       "      <td>0</td>\n",
       "      <td>1</td>\n",
       "      <td>-4</td>\n",
       "      <td>0.017986</td>\n",
       "      <td>0.003983</td>\n",
       "    </tr>\n",
       "    <tr>\n",
       "      <th>6</th>\n",
       "      <td>1</td>\n",
       "      <td>1</td>\n",
       "      <td>0</td>\n",
       "      <td>10</td>\n",
       "      <td>0.999955</td>\n",
       "      <td>0.221451</td>\n",
       "    </tr>\n",
       "    <tr>\n",
       "      <th>7</th>\n",
       "      <td>1</td>\n",
       "      <td>1</td>\n",
       "      <td>1</td>\n",
       "      <td>6</td>\n",
       "      <td>0.997527</td>\n",
       "      <td>0.220913</td>\n",
       "    </tr>\n",
       "  </tbody>\n",
       "</table>\n",
       "</div>"
      ],
      "text/plain": [
       "   nu  h1  h2   E         P     Pnorm\n",
       "0   0   0   0   0  0.500000  0.110730\n",
       "1   0   0   1   0  0.500000  0.110730\n",
       "2   0   1   0   0  0.500000  0.110730\n",
       "3   0   1   1   0  0.500000  0.110730\n",
       "4   1   0   0   0  0.500000  0.110730\n",
       "5   1   0   1  -4  0.017986  0.003983\n",
       "6   1   1   0  10  0.999955  0.221451\n",
       "7   1   1   1   6  0.997527  0.220913"
      ]
     },
     "execution_count": 68,
     "metadata": {},
     "output_type": "execute_result"
    }
   ],
   "source": [
    "ww1 = 10\n",
    "ww2 = -4\n",
    "ww = [ww1, ww2]\n",
    "fcww = fc(ww)\n",
    "fcww"
   ]
  },
  {
   "cell_type": "code",
   "execution_count": 69,
   "metadata": {},
   "outputs": [
    {
     "data": {
      "text/plain": [
       "[0.66382528977144051, 0.44635760954835663]"
      ]
     },
     "execution_count": 69,
     "metadata": {},
     "output_type": "execute_result"
    }
   ],
   "source": [
    "phww = [fcww[fcww['h1'] == 1]['Pnorm'].sum(), fcww[fcww['h2'] == 1]['Pnorm'].sum()]\n",
    "phww"
   ]
  },
  {
   "cell_type": "code",
   "execution_count": 71,
   "metadata": {},
   "outputs": [
    {
     "data": {
      "text/plain": [
       "0.034723337448322934"
      ]
     },
     "execution_count": 71,
     "metadata": {},
     "output_type": "execute_result"
    }
   ],
   "source": [
    "p(1, 0, 1, ww) / (p(1, 0, 1, ww) + p(1, 0, 0, ww))"
   ]
  },
  {
   "cell_type": "code",
   "execution_count": 72,
   "metadata": {},
   "outputs": [
    {
     "data": {
      "text/plain": [
       "0.49939242873941264"
      ]
     },
     "execution_count": 72,
     "metadata": {},
     "output_type": "execute_result"
    }
   ],
   "source": [
    "(p(1, 1, 1, ww)) /  (p(1, 1, 1, ww) + p(1, 1, 0, ww))"
   ]
  },
  {
   "cell_type": "markdown",
   "metadata": {},
   "source": [
    "## 7. ## \n",
    "What is $P(h2=1|v=1,h1=1)$? Give your answer with at least four digits after the decimal point. Hint: it's quite different from the answer to the previous question; try to understand why. The fact that those two are different shows that, conditional on the state of the visible units, the hidden units have a strong effect on each other, i.e. they're not independent. That is what we call explaining away, and the earthquake vs. truck network is another example of that.\n",
    "\n",
    "https://www.coursera.org/learn/neural-networks/discussions/weeks/13/threads/qlXPInBZEeeNWAqvpYfEJA"
   ]
  },
  {
   "cell_type": "code",
   "execution_count": 141,
   "metadata": {},
   "outputs": [
    {
     "data": {
      "text/plain": [
       "1.9257798473317815"
      ]
     },
     "execution_count": 141,
     "metadata": {},
     "output_type": "execute_result"
    }
   ],
   "source": [
    "0.997527 / (0.500000 + 0.017986)"
   ]
  },
  {
   "cell_type": "code",
   "execution_count": 148,
   "metadata": {},
   "outputs": [
    {
     "data": {
      "text/plain": [
       "0.39655734118625574"
      ]
     },
     "execution_count": 148,
     "metadata": {},
     "output_type": "execute_result"
    }
   ],
   "source": [
    "(p(1, 1, 1, ww)) / (p(1, 0, 1, ww) + p(1, 0, 0, ww) + p(1, 1, 0, ww) + p(1, 1, 1, ww))"
   ]
  },
  {
   "cell_type": "code",
   "execution_count": null,
   "metadata": {
    "collapsed": true
   },
   "outputs": [],
   "source": []
  }
 ],
 "metadata": {
  "kernelspec": {
   "display_name": "Python 3",
   "language": "python",
   "name": "python3"
  },
  "language_info": {
   "codemirror_mode": {
    "name": "ipython",
    "version": 3
   },
   "file_extension": ".py",
   "mimetype": "text/x-python",
   "name": "python",
   "nbconvert_exporter": "python",
   "pygments_lexer": "ipython3",
   "version": "3.6.1"
  }
 },
 "nbformat": 4,
 "nbformat_minor": 2
}
